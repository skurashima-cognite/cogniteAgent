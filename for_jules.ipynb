{
 "cells": [
  {
   "cell_type": "markdown",
   "id": "4fa15070",
   "metadata": {},
   "source": [
    "### Create Client"
   ]
  },
  {
   "cell_type": "code",
   "execution_count": null,
   "id": "a6ce21b0",
   "metadata": {},
   "outputs": [],
   "source": [
    "# 標準ライブラリ\n",
    "import pandas as pd\n",
    "\n",
    "# Cognite SDK\n",
    "from cognite.client import CogniteClient, ClientConfig\n",
    "from cognite.client.credentials import OAuthClientCredentials\n",
    "from cognite.client.exceptions import CogniteAPIError\n",
    "\n",
    "# データクラス（一般）\n",
    "from cognite.client.data_classes import (\n",
    "    FileMetadata,\n",
    "    FileMetadataList,\n",
    "    Annotation,\n",
    "    AnnotationList,\n",
    "    Asset,\n",
    "    AssetList\n",
    ")\n",
    "\n",
    "# Data Modeling\n",
    "from cognite.client.data_classes import data_modeling as dm\n",
    "from cognite.client.data_classes.data_modeling import (\n",
    "    SpaceApply,\n",
    "    NodeId,\n",
    "    EdgeId,\n",
    "    ViewId,\n",
    "    DirectRelationReference\n",
    ")\n",
    "\n",
    "# Data Modeling: CDM v1 モデル定義\n",
    "from cognite.client.data_classes.data_modeling.cdm.v1 import (\n",
    "    CogniteDiagramAnnotation,\n",
    "    CogniteDiagramAnnotationApply,\n",
    "    CogniteAssetApply,\n",
    "    CogniteFileApply\n",
    ")\n",
    "\n",
    "# フィルター\n",
    "from cognite.client.data_classes.filters import Equals, ContainsAny, In\n",
    "\n",
    "# 以下の認証情報をマスクして下さい\n",
    "project = \"your_project_name\"  # CDF project name\n",
    "cluster = \"your_cluster_name\"  # CDF cluster name, e.g., \"example.cognitedata.com\"\n",
    "tenant_id = \"your_tenant_id\"  # Azure AD tenant ID\n",
    "client_id = \"your_client_id\"  # Azure AD application (client) ID\n",
    "client_secret= \"your_client_secret\"  # Azure AD application client secret\n",
    "\n",
    "creds = OAuthClientCredentials(\n",
    "    token_url=f\"https://login.microsoftonline.com/{tenant_id}/oauth2/v2.0/token\",\n",
    "    client_id=f\"{client_id}\",\n",
    "    client_secret=client_secret,\n",
    "    scopes=[f\"https://{cluster}.cognitedata.com/.default\"]\n",
    ")\n",
    "\n",
    "cnf = ClientConfig(\n",
    "    client_name=\"SDK client\",\n",
    "    project=f\"{project}\",\n",
    "    credentials=creds,\n",
    "    base_url=f\"https://{cluster}.cognitedata.com\"\n",
    ")\n",
    "\n",
    "client = CogniteClient(cnf)"
   ]
  },
  {
   "cell_type": "markdown",
   "id": "9aeaa75f",
   "metadata": {},
   "source": [
    "### Create Space"
   ]
  },
  {
   "cell_type": "code",
   "execution_count": 8,
   "id": "3672cb80",
   "metadata": {},
   "outputs": [],
   "source": [
    "# This is a sample script to create and apply spaces in Cognite Data Model (CDM).\n",
    "# Best practices for using spaces in CDM include:\n",
    "# 1. Use spaces to logically group related entities and relationships.\n",
    "spaces = [SpaceApply(space=\"test_instance_space_20250602\", description=\"My first space\", name=\"My Space\"),\n",
    "SpaceApply(space=\"test_dm_space_20250602\", description=\"My second space\", name=\"My Other Space\")]\n",
    "res = client.data_modeling.spaces.apply(spaces)"
   ]
  },
  {
   "cell_type": "markdown",
   "id": "a5057e24",
   "metadata": {},
   "source": [
    "### Get spaces"
   ]
  },
  {
   "cell_type": "code",
   "execution_count": 9,
   "id": "7df3122a",
   "metadata": {},
   "outputs": [],
   "source": [
    "space_list = client.data_modeling.spaces.list(limit=5)"
   ]
  },
  {
   "cell_type": "markdown",
   "id": "647887cd",
   "metadata": {},
   "source": [
    "### Create File Instance"
   ]
  },
  {
   "cell_type": "code",
   "execution_count": null,
   "id": "13a93a7b",
   "metadata": {},
   "outputs": [
    {
     "data": {
      "text/plain": [
       "InstancesApplyResult(nodes=[<NodeApplyResult(space='test_instance_space_20250602', external_id='ex_test_file_20250602', version=1) at 0x1180248d0>], edges=[])"
      ]
     },
     "execution_count": 10,
     "metadata": {},
     "output_type": "execute_result"
    }
   ],
   "source": [
    "# This is an example of how to create a file metadata object\n",
    "SPACE_FOR_INSTNCE = \"test_instance_space_20250602\"\n",
    "NAME_FOR_INSTANCE = \"test_file_20250602\"\n",
    "EX_ID_FOR_INSTANCE = \"ex_test_file_20250602\"\n",
    "\n",
    "# Create a new file metadata object. You can add more records to the list if needed.\n",
    "# This is the reference web page for the CogniteFileApply class:\n",
    "# https://cognite-sdk-python.readthedocs-hosted.com/en/latest/data_modeling.html#cognite.client.data_classes.data_modeling.cdm.v1.CogniteFileApply\n",
    "new_file_metadatas = [CogniteFileApply(\n",
    "    space = SPACE_FOR_INSTNCE,\n",
    "    name = NAME_FOR_INSTANCE,\n",
    "    external_id = EX_ID_FOR_INSTANCE,\n",
    ")]\n",
    "\n",
    "client.data_modeling.instances.apply(new_file_metadatas)"
   ]
  },
  {
   "cell_type": "markdown",
   "id": "6967e8c1",
   "metadata": {},
   "source": [
    "### Upload File itself"
   ]
  },
  {
   "cell_type": "code",
   "execution_count": 13,
   "id": "101b5ed5",
   "metadata": {},
   "outputs": [
    {
     "data": {
      "text/html": [
       "<div>\n",
       "<style scoped>\n",
       "    .dataframe tbody tr th:only-of-type {\n",
       "        vertical-align: middle;\n",
       "    }\n",
       "\n",
       "    .dataframe tbody tr th {\n",
       "        vertical-align: top;\n",
       "    }\n",
       "\n",
       "    .dataframe thead th {\n",
       "        text-align: right;\n",
       "    }\n",
       "</style>\n",
       "<table border=\"1\" class=\"dataframe\">\n",
       "  <thead>\n",
       "    <tr style=\"text-align: right;\">\n",
       "      <th></th>\n",
       "      <th>value</th>\n",
       "    </tr>\n",
       "  </thead>\n",
       "  <tbody>\n",
       "    <tr>\n",
       "      <th>instance_id</th>\n",
       "      <td>{'space': 'test_instance_space_20250602', 'ext...</td>\n",
       "    </tr>\n",
       "    <tr>\n",
       "      <th>name</th>\n",
       "      <td>test_file_20250602</td>\n",
       "    </tr>\n",
       "    <tr>\n",
       "      <th>id</th>\n",
       "      <td>2131935048101419</td>\n",
       "    </tr>\n",
       "    <tr>\n",
       "      <th>created_time</th>\n",
       "      <td>2025-06-02 01:39:28.312000</td>\n",
       "    </tr>\n",
       "    <tr>\n",
       "      <th>last_updated_time</th>\n",
       "      <td>2025-06-02 01:39:28.312000</td>\n",
       "    </tr>\n",
       "    <tr>\n",
       "      <th>uploaded</th>\n",
       "      <td>False</td>\n",
       "    </tr>\n",
       "  </tbody>\n",
       "</table>\n",
       "</div>"
      ],
      "text/plain": [
       "<cognite.client.data_classes.files.FileMetadata at 0x1180fea50>"
      ]
     },
     "execution_count": 13,
     "metadata": {},
     "output_type": "execute_result"
    }
   ],
   "source": [
    "file_name = \"test_file_20250602.txt\"\n",
    "client.files.upload_content(f\"./{file_name}\", instance_id=NodeId(SPACE_FOR_INSTNCE, EX_ID_FOR_INSTANCE))"
   ]
  },
  {
   "cell_type": "code",
   "execution_count": null,
   "id": "b7a73315",
   "metadata": {},
   "outputs": [],
   "source": []
  }
 ],
 "metadata": {
  "kernelspec": {
   "display_name": ".venv",
   "language": "python",
   "name": "python3"
  },
  "language_info": {
   "codemirror_mode": {
    "name": "ipython",
    "version": 3
   },
   "file_extension": ".py",
   "mimetype": "text/x-python",
   "name": "python",
   "nbconvert_exporter": "python",
   "pygments_lexer": "ipython3",
   "version": "3.11.12"
  }
 },
 "nbformat": 4,
 "nbformat_minor": 5
}
